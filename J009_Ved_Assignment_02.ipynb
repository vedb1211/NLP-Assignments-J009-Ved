{
 "cells": [
  {
   "cell_type": "markdown",
   "id": "c3cb2767",
   "metadata": {},
   "source": [
    "## Loading pre-trained Word2Vec Model"
   ]
  },
  {
   "cell_type": "code",
   "execution_count": 1,
   "id": "f946cee1",
   "metadata": {},
   "outputs": [],
   "source": [
    "import gensim.downloader as api\n",
    "\n",
    "# Load the pretrained Word2Vec model\n",
    "model = api.load('word2vec-google-news-300')"
   ]
  },
  {
   "cell_type": "markdown",
   "id": "fe5e696e",
   "metadata": {},
   "source": [
    "## Similar words for each word"
   ]
  },
  {
   "cell_type": "code",
   "execution_count": 2,
   "id": "61eb456d",
   "metadata": {},
   "outputs": [
    {
     "name": "stdout",
     "output_type": "stream",
     "text": [
      "Words similar to 'computer':\n",
      "  computers: 0.7979\n",
      "  laptop: 0.6640\n",
      "  laptop_computer: 0.6549\n",
      "  Computer: 0.6473\n",
      "  com_puter: 0.6082\n",
      "\n",
      "Words similar to 'fruit':\n",
      "  fruits: 0.7737\n",
      "  cherries: 0.6904\n",
      "  berries: 0.6854\n",
      "  pears: 0.6825\n",
      "  citrus_fruit: 0.6695\n",
      "\n",
      "Words similar to 'city':\n",
      "  citys: 0.6804\n",
      "  mayor: 0.6751\n",
      "  town: 0.6724\n",
      "  municipality: 0.6531\n",
      "  municipal: 0.6223\n",
      "\n",
      "Words similar to 'music':\n",
      "  classical_music: 0.7198\n",
      "  jazz: 0.6835\n",
      "  Music: 0.6596\n",
      "  Without_Donny_Kirshner: 0.6416\n",
      "  songs: 0.6396\n",
      "\n",
      "Words similar to 'animal':\n",
      "  animals: 0.7875\n",
      "  Animal: 0.7282\n",
      "  animal_welfare: 0.6636\n",
      "  dog: 0.6438\n",
      "  pet: 0.6338\n",
      "\n"
     ]
    }
   ],
   "source": [
    "# Define the words\n",
    "words = ['computer', 'fruit', 'city', 'music', 'animal']\n",
    "\n",
    "# Find similar words for each of these 5 words\n",
    "for word in words:\n",
    "    similar_words = model.most_similar(word, topn=5)\n",
    "    print(f\"Words similar to '{word}':\")\n",
    "    for similar_word in similar_words:\n",
    "        print(f\"  {similar_word[0]}: {similar_word[1]:.4f}\")\n",
    "    print()\n"
   ]
  },
  {
   "cell_type": "code",
   "execution_count": 3,
   "id": "bb3412d1",
   "metadata": {},
   "outputs": [
    {
     "name": "stdout",
     "output_type": "stream",
     "text": [
      "king - man + woman ~= queen (expected: queen)\n",
      "Paris - France + Germany ~= Berlin (expected: Berlin)\n",
      "walking - walk + run ~= running (expected: running)\n"
     ]
    }
   ],
   "source": [
    "# Define analogy examples\n",
    "analogies = [\n",
    "    ('king', 'man', 'woman', 'queen'),\n",
    "    ('Paris', 'France', 'Germany', 'Berlin'),\n",
    "    ('walking', 'walk', 'run', 'running')\n",
    "]\n",
    "\n",
    "# Test analogy examples\n",
    "for a, b, c, expected in analogies:\n",
    "    predicted = model.most_similar(positive=[a, c], negative=[b], topn=1)[0][0]\n",
    "    print(f\"{a} - {b} + {c} ~= {predicted} (expected: {expected})\")\n"
   ]
  },
  {
   "cell_type": "code",
   "execution_count": 5,
   "id": "8c8466f4",
   "metadata": {},
   "outputs": [],
   "source": [
    "import numpy as np\n",
    "import pandas as pd"
   ]
  },
  {
   "cell_type": "code",
   "execution_count": 6,
   "id": "71ed22af",
   "metadata": {},
   "outputs": [],
   "source": [
    "data=pd.read_csv('IMDB Dataset.csv')"
   ]
  },
  {
   "cell_type": "code",
   "execution_count": 7,
   "id": "1e194f80",
   "metadata": {},
   "outputs": [
    {
     "data": {
      "text/html": [
       "<div>\n",
       "<style scoped>\n",
       "    .dataframe tbody tr th:only-of-type {\n",
       "        vertical-align: middle;\n",
       "    }\n",
       "\n",
       "    .dataframe tbody tr th {\n",
       "        vertical-align: top;\n",
       "    }\n",
       "\n",
       "    .dataframe thead th {\n",
       "        text-align: right;\n",
       "    }\n",
       "</style>\n",
       "<table border=\"1\" class=\"dataframe\">\n",
       "  <thead>\n",
       "    <tr style=\"text-align: right;\">\n",
       "      <th></th>\n",
       "      <th>review</th>\n",
       "      <th>sentiment</th>\n",
       "    </tr>\n",
       "  </thead>\n",
       "  <tbody>\n",
       "    <tr>\n",
       "      <th>0</th>\n",
       "      <td>One of the other reviewers has mentioned that ...</td>\n",
       "      <td>positive</td>\n",
       "    </tr>\n",
       "    <tr>\n",
       "      <th>1</th>\n",
       "      <td>A wonderful little production. &lt;br /&gt;&lt;br /&gt;The...</td>\n",
       "      <td>positive</td>\n",
       "    </tr>\n",
       "    <tr>\n",
       "      <th>2</th>\n",
       "      <td>I thought this was a wonderful way to spend ti...</td>\n",
       "      <td>positive</td>\n",
       "    </tr>\n",
       "    <tr>\n",
       "      <th>3</th>\n",
       "      <td>Basically there's a family where a little boy ...</td>\n",
       "      <td>negative</td>\n",
       "    </tr>\n",
       "    <tr>\n",
       "      <th>4</th>\n",
       "      <td>Petter Mattei's \"Love in the Time of Money\" is...</td>\n",
       "      <td>positive</td>\n",
       "    </tr>\n",
       "  </tbody>\n",
       "</table>\n",
       "</div>"
      ],
      "text/plain": [
       "                                              review sentiment\n",
       "0  One of the other reviewers has mentioned that ...  positive\n",
       "1  A wonderful little production. <br /><br />The...  positive\n",
       "2  I thought this was a wonderful way to spend ti...  positive\n",
       "3  Basically there's a family where a little boy ...  negative\n",
       "4  Petter Mattei's \"Love in the Time of Money\" is...  positive"
      ]
     },
     "execution_count": 7,
     "metadata": {},
     "output_type": "execute_result"
    }
   ],
   "source": [
    "data.head()"
   ]
  },
  {
   "cell_type": "markdown",
   "id": "5deb4d73",
   "metadata": {},
   "source": [
    "## Pre-processing"
   ]
  },
  {
   "cell_type": "code",
   "execution_count": 7,
   "id": "5b96278b",
   "metadata": {},
   "outputs": [
    {
     "name": "stdout",
     "output_type": "stream",
     "text": [
      "<class 'pandas.core.frame.DataFrame'>\n",
      "RangeIndex: 50000 entries, 0 to 49999\n",
      "Data columns (total 2 columns):\n",
      " #   Column     Non-Null Count  Dtype \n",
      "---  ------     --------------  ----- \n",
      " 0   review     50000 non-null  object\n",
      " 1   sentiment  50000 non-null  object\n",
      "dtypes: object(2)\n",
      "memory usage: 781.4+ KB\n"
     ]
    },
    {
     "data": {
      "text/plain": [
       "(None,\n",
       "                                               review sentiment\n",
       " 0  One of the other reviewers has mentioned that ...  positive\n",
       " 1  A wonderful little production. <br /><br />The...  positive\n",
       " 2  I thought this was a wonderful way to spend ti...  positive\n",
       " 3  Basically there's a family where a little boy ...  negative\n",
       " 4  Petter Mattei's \"Love in the Time of Money\" is...  positive,\n",
       " positive    25000\n",
       " negative    25000\n",
       " Name: sentiment, dtype: int64)"
      ]
     },
     "execution_count": 7,
     "metadata": {},
     "output_type": "execute_result"
    }
   ],
   "source": [
    "data_info = data.info()\n",
    "data_head = data.head()\n",
    "data_sentiment_distribution = data['sentiment'].value_counts()\n",
    "\n",
    "data_info, data_head, data_sentiment_distribution"
   ]
  },
  {
   "cell_type": "code",
   "execution_count": 8,
   "id": "68504a17",
   "metadata": {},
   "outputs": [
    {
     "data": {
      "text/plain": [
       "0    one reviewers mentioned watching 1 oz episode ...\n",
       "1    wonderful little production br br filming tech...\n",
       "2    thought wonderful way spend time hot summer we...\n",
       "3    basically 's family little boy jake thinks 's ...\n",
       "4    petter mattei 's `` love time money '' visuall...\n",
       "Name: cleaned_review, dtype: object"
      ]
     },
     "execution_count": 8,
     "metadata": {},
     "output_type": "execute_result"
    }
   ],
   "source": [
    "import string\n",
    "import nltk\n",
    "from nltk.corpus import stopwords\n",
    "from nltk.tokenize import word_tokenize\n",
    "\n",
    "# Define stop words and punctuation\n",
    "stop_words = set(stopwords.words('english'))\n",
    "punctuations = set(string.punctuation)\n",
    "\n",
    "# Function to clean review text\n",
    "def clean_review(review):\n",
    "    # Tokenize the review text\n",
    "    words = word_tokenize(review.lower())\n",
    "    # Remove stopwords and punctuation\n",
    "    filtered_words = [word for word in words if word not in stop_words and word not in punctuations]\n",
    "    return ' '.join(filtered_words)\n",
    "\n",
    "# Apply the clean_review function to the review column\n",
    "data['cleaned_review'] = data['review'].apply(clean_review)\n",
    "\n",
    "# Display the first few cleaned reviews\n",
    "cleaned_reviews_sample = data['cleaned_review'].head()\n",
    "cleaned_reviews_sample"
   ]
  },
  {
   "cell_type": "code",
   "execution_count": 9,
   "id": "26b152f3",
   "metadata": {},
   "outputs": [],
   "source": [
    "from gensim.models import Word2Vec\n",
    "from sklearn.model_selection import train_test_split\n",
    "from sklearn.linear_model import LogisticRegression\n",
    "from sklearn.metrics import f1_score,confusion_matrix\n",
    "import matplotlib.pyplot as plt\n",
    "import seaborn as sns\n",
    "\n",
    "def get_average_vector(review, model):\n",
    "    words = review.split()\n",
    "    feature_vector = np.zeros(model.vector_size, dtype='float32')\n",
    "    num_words = 0\n",
    "    for word in words:\n",
    "        if word in model.wv:\n",
    "            feature_vector = np.add(feature_vector, model.wv[word])\n",
    "            num_words += 1\n",
    "    if num_words > 0:\n",
    "        feature_vector = np.divide(feature_vector, num_words)\n",
    "    return feature_vector\n"
   ]
  },
  {
   "cell_type": "markdown",
   "id": "ae28be61",
   "metadata": {},
   "source": [
    "## Skip-gram model"
   ]
  },
  {
   "cell_type": "code",
   "execution_count": 10,
   "id": "5a32dab0",
   "metadata": {},
   "outputs": [
    {
     "name": "stdout",
     "output_type": "stream",
     "text": [
      "F1-score: 87.89%\n"
     ]
    },
    {
     "data": {
      "image/png": "[encoded data removed]",
      "text/plain": [
       "<Figure size 576x432 with 2 Axes>"
      ]
     },
     "metadata": {
      "needs_background": "light"
     },
     "output_type": "display_data"
    }
   ],
   "source": [
    "# skip gram model\n",
    "tokenized_reviews = [review.split() for review in data['cleaned_review']]\n",
    "word2vec_model = Word2Vec(sentences=tokenized_reviews, vector_size=100, window=5, min_count=2, sg=1, workers=4)\n",
    "\n",
    "X = np.array([get_average_vector(review, word2vec_model) for review in data['cleaned_review']])\n",
    "y = data['sentiment'].apply(lambda x: 1 if x == 'positive' else 0).values\n",
    "\n",
    "# Step 3: Train a sentiment classifier\n",
    "X_train, X_test, y_train, y_test = train_test_split(X, y, test_size=0.2, random_state=42)\n",
    "classifier = LogisticRegression()\n",
    "classifier.fit(X_train, y_train)\n",
    "y_pred = classifier.predict(X_test)\n",
    "\n",
    "# Evaluate the model\n",
    "f1 = f1_score(y_test, y_pred)\n",
    "print(f'F1-score: {f1 * 100:.2f}%')\n",
    "\n",
    "# Compute confusion matrix\n",
    "conf_matrix = confusion_matrix(y_test, y_pred)\n",
    "\n",
    "# Plot confusion matrix as a heatmap\n",
    "plt.figure(figsize=(8, 6))\n",
    "sns.heatmap(conf_matrix, annot=True, fmt='d', cmap='Blues', xticklabels=['Negative', 'Positive'], yticklabels=['Negative', 'Positive'])\n",
    "plt.xlabel('Predicted Labels')\n",
    "plt.ylabel('True Labels')\n",
    "plt.title('Confusion Matrix')\n",
    "plt.show()"
   ]
  },
  {
   "cell_type": "markdown",
   "id": "51c6c5d9",
   "metadata": {},
   "source": [
    "## CBOW Model"
   ]
  },
  {
   "cell_type": "code",
   "execution_count": 11,
   "id": "87c7e591",
   "metadata": {},
   "outputs": [
    {
     "name": "stdout",
     "output_type": "stream",
     "text": [
      "F1-score: 86.26%\n"
     ]
    },
    {
     "data": {
      "image/png": "[encoded data removed]",
      "text/plain": [
       "<Figure size 576x432 with 2 Axes>"
      ]
     },
     "metadata": {
      "needs_background": "light"
     },
     "output_type": "display_data"
    }
   ],
   "source": [
    "# CBOW model\n",
    "tokenized_reviews = [review.split() for review in data['cleaned_review']]\n",
    "word2vec_model = Word2Vec(sentences=tokenized_reviews, vector_size=100, window=5, min_count=2, sg=0, workers=4)\n",
    "\n",
    "X = np.array([get_average_vector(review, word2vec_model) for review in data['cleaned_review']])\n",
    "y = data['sentiment'].apply(lambda x: 1 if x == 'positive' else 0).values\n",
    "\n",
    "# Step 3: Train a sentiment classifier\n",
    "X_train, X_test, y_train, y_test = train_test_split(X, y, test_size=0.2, random_state=42)\n",
    "classifier = LogisticRegression()\n",
    "classifier.fit(X_train, y_train)\n",
    "y_pred = classifier.predict(X_test)\n",
    "\n",
    "# Evaluate the model\n",
    "f1 = f1_score(y_test, y_pred)\n",
    "print(f'F1-score: {f1 * 100:.2f}%')\n",
    "\n",
    "# Compute confusion matrix\n",
    "conf_matrix = confusion_matrix(y_test, y_pred)\n",
    "\n",
    "# Plot confusion matrix as a heatmap\n",
    "plt.figure(figsize=(8, 6))\n",
    "sns.heatmap(conf_matrix, annot=True, fmt='d', cmap='Blues', xticklabels=['Negative', 'Positive'], yticklabels=['Negative', 'Positive'])\n",
    "plt.xlabel('Predicted Labels')\n",
    "plt.ylabel('True Labels')\n",
    "plt.title('Confusion Matrix')\n",
    "plt.show()"
   ]
  },
  {
   "cell_type": "markdown",
   "id": "873894b2",
   "metadata": {},
   "source": [
    "## Pre-trained Model"
   ]
  },
  {
   "cell_type": "code",
   "execution_count": 13,
   "id": "4f060c83",
   "metadata": {},
   "outputs": [
    {
     "name": "stdout",
     "output_type": "stream",
     "text": [
      "F1-score: 85.30%\n"
     ]
    },
    {
     "data": {
      "image/png": "[encoded data removed]",
      "text/plain": [
       "<Figure size 576x432 with 2 Axes>"
      ]
     },
     "metadata": {
      "needs_background": "light"
     },
     "output_type": "display_data"
    }
   ],
   "source": [
    "# Pre trained model\n",
    "model = api.load('word2vec-google-news-300')\n",
    "\n",
    "def get_pretrained_average_vector(review, model):\n",
    "    words = review.split()\n",
    "    feature_vector = np.zeros(model.vector_size, dtype='float32')\n",
    "    num_words = 0\n",
    "    for word in words:\n",
    "        if word in model:\n",
    "            feature_vector = np.add(feature_vector, model[word])\n",
    "            num_words += 1\n",
    "    if num_words > 0:\n",
    "        feature_vector = np.divide(feature_vector, num_words)\n",
    "    return feature_vector\n",
    "\n",
    "X = np.array([get_pretrained_average_vector(review, model) for review in data['cleaned_review']])\n",
    "y = data['sentiment'].apply(lambda x: 1 if x == 'positive' else 0).values\n",
    "\n",
    "# Step 3: Train a sentiment classifier\n",
    "X_train, X_test, y_train, y_test = train_test_split(X, y, test_size=0.2, random_state=42)\n",
    "classifier = LogisticRegression()\n",
    "classifier.fit(X_train, y_train)\n",
    "y_pred = classifier.predict(X_test)\n",
    "\n",
    "# Evaluate the model\n",
    "f1 = f1_score(y_test, y_pred)\n",
    "print(f'F1-score: {f1 * 100:.2f}%')\n",
    "\n",
    "# Compute confusion matrix\n",
    "conf_matrix = confusion_matrix(y_test, y_pred)\n",
    "\n",
    "# Plot confusion matrix as a heatmap\n",
    "plt.figure(figsize=(8, 6))\n",
    "sns.heatmap(conf_matrix, annot=True, fmt='d', cmap='Blues', xticklabels=['Negative', 'Positive'], yticklabels=['Negative', 'Positive'])\n",
    "plt.xlabel('Predicted Labels')\n",
    "plt.ylabel('True Labels')\n",
    "plt.title('Confusion Matrix')\n",
    "plt.show()"
   ]
  },
  {
   "cell_type": "code",
   "execution_count": null,
   "id": "9a450205",
   "metadata": {},
   "outputs": [],
   "source": []
  }
 ],
 "metadata": {
  "kernelspec": {
   "display_name": "Python 3 (ipykernel)",
   "language": "python",
   "name": "python3"
  },
  "language_info": {
   "codemirror_mode": {
    "name": "ipython",
    "version": 3
   },
   "file_extension": ".py",
   "mimetype": "text/x-python",
   "name": "python",
   "nbconvert_exporter": "python",
   "pygments_lexer": "ipython3",
   "version": "3.9.7"
  }
 },
 "nbformat": 4,
 "nbformat_minor": 5
}
